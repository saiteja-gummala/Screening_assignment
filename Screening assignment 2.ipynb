{
 "cells": [
  {
   "cell_type": "markdown",
   "id": "6eb84b4b",
   "metadata": {},
   "source": [
    "   #### 1. Create a function in python to read the text file and replace specific content of the file.\n",
    "    File name - example.txt\n",
    "    Origin file content - This is a placement assignment\n",
    "    Replace string - Placement should be replaced by screening.\n",
    "    Replaced file content - This is a screening assignment"
   ]
  },
  {
   "cell_type": "code",
   "execution_count": 30,
   "id": "8b1254a8",
   "metadata": {},
   "outputs": [],
   "source": [
    "file = open(\"example.txt\",\"w\") #Creating the file "
   ]
  },
  {
   "cell_type": "code",
   "execution_count": 31,
   "id": "d1e22c84",
   "metadata": {},
   "outputs": [
    {
     "data": {
      "text/plain": [
       "30"
      ]
     },
     "execution_count": 31,
     "metadata": {},
     "output_type": "execute_result"
    }
   ],
   "source": [
    "file.write(\"This is a placement assignment\") #Writing the text in the file which we have created"
   ]
  },
  {
   "cell_type": "code",
   "execution_count": 32,
   "id": "e2dea3af",
   "metadata": {},
   "outputs": [],
   "source": [
    "file.close() #we have to close the file to save the system resources"
   ]
  },
  {
   "cell_type": "code",
   "execution_count": 34,
   "id": "1bfe2acf",
   "metadata": {},
   "outputs": [],
   "source": [
    "d = open(\"example.txt\")"
   ]
  },
  {
   "cell_type": "code",
   "execution_count": 35,
   "id": "5a302d31",
   "metadata": {},
   "outputs": [
    {
     "data": {
      "text/plain": [
       "'This is a placement assignment'"
      ]
     },
     "execution_count": 35,
     "metadata": {},
     "output_type": "execute_result"
    }
   ],
   "source": [
    "d.read()"
   ]
  },
  {
   "cell_type": "code",
   "execution_count": 36,
   "id": "e1aee9b6",
   "metadata": {},
   "outputs": [],
   "source": [
    "def replace_string(search_text, replace_text):\n",
    "    with open('example.txt', 'r') as file:\n",
    "        data = file.read()\n",
    "        data = data.replace(search_text, replace_text)\n",
    "        with open('example.txt', 'w') as file:\n",
    "            file.write(data)"
   ]
  },
  {
   "cell_type": "code",
   "execution_count": 37,
   "id": "319126c8",
   "metadata": {},
   "outputs": [],
   "source": [
    "replace_string('placement', 'screening')"
   ]
  },
  {
   "cell_type": "code",
   "execution_count": 38,
   "id": "a38cd87a",
   "metadata": {},
   "outputs": [],
   "source": [
    "file2 = open('example.txt','r')"
   ]
  },
  {
   "cell_type": "code",
   "execution_count": 39,
   "id": "6cb19da3",
   "metadata": {},
   "outputs": [
    {
     "data": {
      "text/plain": [
       "'This is a screening assignment'"
      ]
     },
     "execution_count": 39,
     "metadata": {},
     "output_type": "execute_result"
    }
   ],
   "source": [
    "file2.read()"
   ]
  },
  {
   "cell_type": "markdown",
   "id": "241ec24e",
   "metadata": {},
   "source": [
    "### 2. Demonstrate use of abstract class, multiple inheritance and decorator in python using examples."
   ]
  },
  {
   "cell_type": "markdown",
   "id": "92409d61",
   "metadata": {},
   "source": [
    "#### Abstract Class\n",
    "Python by default doesn't support abstract classes but by using module ABC(Abstract Base Classes) to acheive it\n",
    "\n",
    "what is abstract class - whenever our method doesn't have any body \n",
    "                         we use PASS keyword to declare the method \n",
    "                         we call it has \"Abstract method\" and the class \n",
    "                         is called as \"Abstract class\""
   ]
  },
  {
   "cell_type": "code",
   "execution_count": 2,
   "id": "39e13c85",
   "metadata": {},
   "outputs": [],
   "source": [
    "from abc import ABC, abstractmethod"
   ]
  },
  {
   "cell_type": "code",
   "execution_count": 41,
   "id": "d2d86de4",
   "metadata": {},
   "outputs": [],
   "source": [
    "class Computer(ABC):\n",
    "    @abstractmethod\n",
    "    def process(self):\n",
    "        pass"
   ]
  },
  {
   "cell_type": "code",
   "execution_count": 44,
   "id": "2c686999",
   "metadata": {},
   "outputs": [
    {
     "ename": "TypeError",
     "evalue": "Can't instantiate abstract class Computer with abstract methods process",
     "output_type": "error",
     "traceback": [
      "\u001b[1;31m---------------------------------------------------------------------------\u001b[0m",
      "\u001b[1;31mTypeError\u001b[0m                                 Traceback (most recent call last)",
      "\u001b[1;32m<ipython-input-44-9ef5d5beb207>\u001b[0m in \u001b[0;36m<module>\u001b[1;34m\u001b[0m\n\u001b[1;32m----> 1\u001b[1;33m \u001b[0mcom\u001b[0m \u001b[1;33m=\u001b[0m \u001b[0mComputer\u001b[0m\u001b[1;33m(\u001b[0m\u001b[1;33m)\u001b[0m\u001b[1;33m\u001b[0m\u001b[1;33m\u001b[0m\u001b[0m\n\u001b[0m\u001b[0;32m      2\u001b[0m \u001b[0mcom\u001b[0m\u001b[1;33m.\u001b[0m\u001b[0mprocess\u001b[0m\u001b[1;33m(\u001b[0m\u001b[1;33m)\u001b[0m\u001b[1;33m\u001b[0m\u001b[1;33m\u001b[0m\u001b[0m\n",
      "\u001b[1;31mTypeError\u001b[0m: Can't instantiate abstract class Computer with abstract methods process"
     ]
    }
   ],
   "source": [
    "com = Computer() #We can't create a object for abstract classes,but they can be subclassed.\n",
    "com.process()"
   ]
  },
  {
   "cell_type": "code",
   "execution_count": 3,
   "id": "424e51fe",
   "metadata": {},
   "outputs": [],
   "source": [
    "class world(ABC):\n",
    "    \n",
    "    @abstractmethod     \n",
    "    def capital(self):\n",
    "        pass\n",
    "    \n",
    "class India(world):\n",
    "    def capital(self):\n",
    "        print('Delhi is capital of India')\n",
    "    \n",
    "class France(world):\n",
    "    def capital(self):\n",
    "        print('Paris is capital of France')\n",
    "        \n",
    "class Japan(world):\n",
    "    def capital(self):\n",
    "        print('Tokyo is capital of Japan')\n",
    "        \n",
    "class Italy(world):\n",
    "    def capital(self):\n",
    "        print('Rome is capital of Italy')"
   ]
  },
  {
   "cell_type": "markdown",
   "id": "52486f64",
   "metadata": {},
   "source": [
    "### multiple inheritance"
   ]
  },
  {
   "cell_type": "markdown",
   "id": "c7486c77",
   "metadata": {},
   "source": [
    "    In multiple inheritance, the features of all the base classes are inherited into the derived class. The syntax for multiple inheritance is similar to single inheritance."
   ]
  },
  {
   "cell_type": "code",
   "execution_count": 7,
   "id": "674f576e",
   "metadata": {},
   "outputs": [
    {
     "name": "stdout",
     "output_type": "stream",
     "text": [
      " Forming class Dev\n"
     ]
    }
   ],
   "source": [
    "#Python program to demonstrate how MRO works\n",
    "#in multiple inheritance\n",
    "\n",
    "class Agile: #Parent Class\n",
    "    def create(self): \n",
    "        print(\" Forming class Agile\") \n",
    "class Dev(Agile): \n",
    "    def create(self): \n",
    "        print(\" Forming class Dev\") \n",
    "class QA(Agile): \n",
    "    def create(self): \n",
    "        print(\" Forming class QA\") \n",
    "\n",
    "# Ordering of classes\n",
    "class Sprint(Dev, QA): \n",
    "    pass\n",
    "\n",
    "sprint = Sprint() \n",
    "sprint.create()"
   ]
  },
  {
   "cell_type": "markdown",
   "id": "04c1c01f",
   "metadata": {},
   "source": [
    "### Decorator"
   ]
  },
  {
   "cell_type": "markdown",
   "id": "75b1a70d",
   "metadata": {},
   "source": [
    "    A decorator in Python is a function that takes another function as its argument, and returns yet another function . Decorators can be extremely useful as they allow the extension of an existing function, without any modification to the original function source code."
   ]
  },
  {
   "cell_type": "code",
   "execution_count": 6,
   "id": "bb4b7b65",
   "metadata": {},
   "outputs": [
    {
     "name": "stdout",
     "output_type": "stream",
     "text": [
      "2.0\n"
     ]
    }
   ],
   "source": [
    "def divide (x, y):\n",
    "    print(x/y)\n",
    "\n",
    "def outer_div(func):\n",
    "    def inner(x, y):\n",
    "        if x < y:\n",
    "            x, y = y, x\n",
    "            return func(x, y)\n",
    "    return inner\n",
    "\n",
    "divide1 = outer_div(divide)\n",
    "divide1(2, 4)"
   ]
  },
  {
   "cell_type": "code",
   "execution_count": null,
   "id": "b3d331df",
   "metadata": {},
   "outputs": [],
   "source": []
  }
 ],
 "metadata": {
  "kernelspec": {
   "display_name": "Python 3",
   "language": "python",
   "name": "python3"
  },
  "language_info": {
   "codemirror_mode": {
    "name": "ipython",
    "version": 3
   },
   "file_extension": ".py",
   "mimetype": "text/x-python",
   "name": "python",
   "nbconvert_exporter": "python",
   "pygments_lexer": "ipython3",
   "version": "3.8.8"
  }
 },
 "nbformat": 4,
 "nbformat_minor": 5
}
